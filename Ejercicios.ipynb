{
  "nbformat": 4,
  "nbformat_minor": 0,
  "metadata": {
    "colab": {
      "name": "Ejercicios",
      "provenance": []
    },
    "kernelspec": {
      "name": "python3",
      "display_name": "Python 3"
    },
    "language_info": {
      "name": "python"
    }
  },
  "cells": [
    {
      "cell_type": "markdown",
      "source": [
        "#Ejercicio 1"
      ],
      "metadata": {
        "id": "XoycW2-xZUQs"
      }
    },
    {
      "cell_type": "code",
      "execution_count": 6,
      "metadata": {
        "colab": {
          "base_uri": "https://localhost:8080/"
        },
        "id": "kXWMd9_kZPyM",
        "outputId": "cb6b09e8-2993-4a87-dde0-8c31605ab85e"
      },
      "outputs": [
        {
          "output_type": "stream",
          "name": "stdout",
          "text": [
            "¿Tú número es primo? insertalo 5\n",
            "El número es primo\n"
          ]
        }
      ],
      "source": [
        "num= int(input(\"¿Tú número es primo? insertalo \"))\n",
        "valor= range(2,num)\n",
        "contador = 0\n",
        "for n in valor:\n",
        "  if num%n==0:\n",
        "    contador+=1\n",
        "    print(\"divisor:\", n)\n",
        "else:\n",
        "  print(\"El número es primo\")"
      ]
    },
    {
      "cell_type": "markdown",
      "source": [
        "#Ejercicio 2"
      ],
      "metadata": {
        "id": "aAia19xqZb8E"
      }
    },
    {
      "cell_type": "code",
      "source": [
        "def numero (n):\n",
        "n=input(\"\")\n",
        "for i in range(1, 11):\n",
        "  n = (n-1 + n-2)"
      ],
      "metadata": {
        "colab": {
          "base_uri": "https://localhost:8080/",
          "height": 131
        },
        "id": "wwIvKvuLZe-U",
        "outputId": "af0b8afb-6884-466f-f5c8-db6c3c1ecafb"
      },
      "execution_count": 23,
      "outputs": [
        {
          "output_type": "error",
          "ename": "IndentationError",
          "evalue": "ignored",
          "traceback": [
            "\u001b[0;36m  File \u001b[0;32m\"<ipython-input-23-897c5b8e682d>\"\u001b[0;36m, line \u001b[0;32m2\u001b[0m\n\u001b[0;31m    n=input(\"\")\u001b[0m\n\u001b[0m    ^\u001b[0m\n\u001b[0;31mIndentationError\u001b[0m\u001b[0;31m:\u001b[0m expected an indented block\n"
          ]
        }
      ]
    },
    {
      "cell_type": "code",
      "source": [
        "ddsd"
      ],
      "metadata": {
        "colab": {
          "base_uri": "https://localhost:8080/",
          "height": 166
        },
        "id": "xSVBHbJ-dqiK",
        "outputId": "847f2286-0173-44a0-e081-51ad50db8c5d"
      },
      "execution_count": 24,
      "outputs": [
        {
          "output_type": "error",
          "ename": "NameError",
          "evalue": "ignored",
          "traceback": [
            "\u001b[0;31m---------------------------------------------------------------------------\u001b[0m",
            "\u001b[0;31mNameError\u001b[0m                                 Traceback (most recent call last)",
            "\u001b[0;32m<ipython-input-24-a5e6ddaf5825>\u001b[0m in \u001b[0;36m<module>\u001b[0;34m\u001b[0m\n\u001b[0;32m----> 1\u001b[0;31m \u001b[0mddsd\u001b[0m\u001b[0;34m\u001b[0m\u001b[0;34m\u001b[0m\u001b[0m\n\u001b[0m",
            "\u001b[0;31mNameError\u001b[0m: name 'ddsd' is not defined"
          ]
        }
      ]
    },
    {
      "cell_type": "markdown",
      "source": [
        "#Ejercicio 4"
      ],
      "metadata": {
        "id": "2uu0muW4ejce"
      }
    },
    {
      "cell_type": "code",
      "source": [
        "n=i\n",
        "while n<10:\n",
        "  print(\"ingresa la tabla que deseeas\")\n",
        "  for i in range(1, 10):\n",
        "   print(n,\"x\",i,\"=\",n*i)\n",
        "  n+=1 "
      ],
      "metadata": {
        "colab": {
          "base_uri": "https://localhost:8080/"
        },
        "id": "F2z422KzeouE",
        "outputId": "2ff3b146-44f8-4d2e-8785-824e35240e1d"
      },
      "execution_count": 27,
      "outputs": [
        {
          "output_type": "stream",
          "name": "stdout",
          "text": [
            "ingresa la tabla que deseeas\n",
            "9 x 1 = 9\n",
            "9 x 2 = 18\n",
            "9 x 3 = 27\n",
            "9 x 4 = 36\n",
            "9 x 5 = 45\n",
            "9 x 6 = 54\n",
            "9 x 7 = 63\n",
            "9 x 8 = 72\n",
            "9 x 9 = 81\n"
          ]
        }
      ]
    }
  ]
}