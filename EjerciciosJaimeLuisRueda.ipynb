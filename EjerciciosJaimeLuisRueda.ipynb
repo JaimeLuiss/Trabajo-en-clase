{
  "nbformat": 4,
  "nbformat_minor": 0,
  "metadata": {
    "colab": {
      "name": "Ejercicios",
      "provenance": []
    },
    "kernelspec": {
      "name": "python3",
      "display_name": "Python 3"
    },
    "language_info": {
      "name": "python"
    }
  },
  "cells": [
    {
      "cell_type": "markdown",
      "source": [
        "#Ejercicio 1"
      ],
      "metadata": {
        "id": "XoycW2-xZUQs"
      }
    },
    {
      "cell_type": "code",
      "execution_count": null,
      "metadata": {
        "colab": {
          "base_uri": "https://localhost:8080/"
        },
        "id": "kXWMd9_kZPyM",
        "outputId": "cb6b09e8-2993-4a87-dde0-8c31605ab85e"
      },
      "outputs": [
        {
          "output_type": "stream",
          "name": "stdout",
          "text": [
            "¿Tú número es primo? insertalo 5\n",
            "El número es primo\n"
          ]
        }
      ],
      "source": [
        "num= int(input(\"¿Tú número es primo? insertalo \"))\n",
        "valor= range(2,num)\n",
        "contador = 0\n",
        "for n in valor:\n",
        "  if num%n==0:\n",
        "    contador+=1\n",
        "    print(\"divisor:\", n)\n",
        "else:\n",
        "  print(\"El número es primo\")"
      ]
    },
    {
      "cell_type": "markdown",
      "source": [
        "#Ejercicio 2"
      ],
      "metadata": {
        "id": "aAia19xqZb8E"
      }
    },
    {
      "cell_type": "code",
      "source": [
        "x=1\n",
        "y=0\n",
        "z=1\n",
        "if 30>0:\n",
        "    while z<=30:\n",
        "       print(y)\n",
        "       x+=y \n",
        "       y=x-y\n",
        "       z+=1\n",
        "    print(\"Esta es la lista completa de los 30 primeros números de Fibonacci\")"
      ],
      "metadata": {
        "colab": {
          "base_uri": "https://localhost:8080/"
        },
        "id": "wwIvKvuLZe-U",
        "outputId": "a60feeb8-92ca-4a4b-bd99-3cba7c5786a4"
      },
      "execution_count": 16,
      "outputs": [
        {
          "output_type": "stream",
          "name": "stdout",
          "text": [
            "0\n",
            "1\n",
            "1\n",
            "2\n",
            "3\n",
            "5\n",
            "8\n",
            "13\n",
            "21\n",
            "34\n",
            "55\n",
            "89\n",
            "144\n",
            "233\n",
            "377\n",
            "610\n",
            "987\n",
            "1597\n",
            "2584\n",
            "4181\n",
            "6765\n",
            "10946\n",
            "17711\n",
            "28657\n",
            "46368\n",
            "75025\n",
            "121393\n",
            "196418\n",
            "317811\n",
            "514229\n",
            "Esta es la lista completa de los 30 primeros números de Fibonacci\n"
          ]
        }
      ]
    },
    {
      "cell_type": "markdown",
      "source": [
        "#Ejercicio 3"
      ],
      "metadata": {
        "id": "fdM-fudnURth"
      }
    },
    {
      "cell_type": "code",
      "source": [
        "def factorial(num):\n",
        "    num= int(input(\"ingrese un numero\"))\n",
        "    if num<0: \n",
        "        print(\"Error, no existe\")\n",
        "    elif num==0: \n",
        "        return 1\n",
        "    else: \n",
        "        t=1\n",
        "        while(num>1): \n",
        "            t *= num\n",
        "            num-=1\n",
        "        return t \n",
        "print(f\"El faltorial de {num} es {factorial(num)}\")"
      ],
      "metadata": {
        "colab": {
          "base_uri": "https://localhost:8080/",
          "height": 200
        },
        "id": "WmPQJqA-UaNp",
        "outputId": "aa618364-29f8-4e75-80d2-90885fd51fef"
      },
      "execution_count": 10,
      "outputs": [
        {
          "output_type": "error",
          "ename": "NameError",
          "evalue": "ignored",
          "traceback": [
            "\u001b[0;31m---------------------------------------------------------------------------\u001b[0m",
            "\u001b[0;31mNameError\u001b[0m                                 Traceback (most recent call last)",
            "\u001b[0;32m<ipython-input-10-a53ef170d8ba>\u001b[0m in \u001b[0;36m<module>\u001b[0;34m\u001b[0m\n\u001b[1;32m     11\u001b[0m             \u001b[0mnum\u001b[0m\u001b[0;34m-=\u001b[0m\u001b[0;36m1\u001b[0m\u001b[0;34m\u001b[0m\u001b[0;34m\u001b[0m\u001b[0m\n\u001b[1;32m     12\u001b[0m         \u001b[0;32mreturn\u001b[0m \u001b[0mt\u001b[0m\u001b[0;34m\u001b[0m\u001b[0;34m\u001b[0m\u001b[0m\n\u001b[0;32m---> 13\u001b[0;31m \u001b[0mprint\u001b[0m\u001b[0;34m(\u001b[0m\u001b[0;34mf\"El faltorial de {num} es {factorial(num)}\"\u001b[0m\u001b[0;34m)\u001b[0m\u001b[0;34m\u001b[0m\u001b[0;34m\u001b[0m\u001b[0m\n\u001b[0m",
            "\u001b[0;31mNameError\u001b[0m: name 'num' is not defined"
          ]
        }
      ]
    },
    {
      "cell_type": "markdown",
      "source": [
        "#Ejercicio 4"
      ],
      "metadata": {
        "id": "2uu0muW4ejce"
      }
    },
    {
      "cell_type": "code",
      "source": [
        "n=i\n",
        "while n<10:\n",
        "  print(\"ingresa la tabla que deseeas\")\n",
        "  for i in range(1, 10):\n",
        "   print(n,\"x\",i,\"=\",n*i)\n",
        "  n+=1 "
      ],
      "metadata": {
        "colab": {
          "base_uri": "https://localhost:8080/"
        },
        "id": "F2z422KzeouE",
        "outputId": "2ff3b146-44f8-4d2e-8785-824e35240e1d"
      },
      "execution_count": null,
      "outputs": [
        {
          "output_type": "stream",
          "name": "stdout",
          "text": [
            "ingresa la tabla que deseeas\n",
            "9 x 1 = 9\n",
            "9 x 2 = 18\n",
            "9 x 3 = 27\n",
            "9 x 4 = 36\n",
            "9 x 5 = 45\n",
            "9 x 6 = 54\n",
            "9 x 7 = 63\n",
            "9 x 8 = 72\n",
            "9 x 9 = 81\n"
          ]
        }
      ]
    },
    {
      "cell_type": "markdown",
      "source": [
        "#Ejercicio 5"
      ],
      "metadata": {
        "id": "kGvjR11NUmwO"
      }
    },
    {
      "cell_type": "markdown",
      "source": [],
      "metadata": {
        "id": "985nsXZGUrC3"
      }
    },
    {
      "cell_type": "markdown",
      "source": [
        "#Ejercicio 6"
      ],
      "metadata": {
        "id": "Cqxmkss1UsMu"
      }
    },
    {
      "cell_type": "code",
      "source": [
        "x=int(input(\"Ingresa el número de la tabla que deseas y te lo enseñamos\"))\n",
        "print (\"Esta es la tabla del \",x)\n",
        "for i in range(1,11):\n",
        "  print(x,\"x\",i,\"=\",x*i)"
      ],
      "metadata": {
        "colab": {
          "base_uri": "https://localhost:8080/"
        },
        "id": "p8oiXpwdUvEW",
        "outputId": "78bfa4e7-aa23-4ede-9821-130378a5c4a4"
      },
      "execution_count": 15,
      "outputs": [
        {
          "output_type": "stream",
          "name": "stdout",
          "text": [
            "Ingresa el número de la tabla que deseas y te lo enseñamos9\n",
            "Esta es la tabla del  9\n",
            "9 x 1 = 9\n",
            "9 x 2 = 18\n",
            "9 x 3 = 27\n",
            "9 x 4 = 36\n",
            "9 x 5 = 45\n",
            "9 x 6 = 54\n",
            "9 x 7 = 63\n",
            "9 x 8 = 72\n",
            "9 x 9 = 81\n",
            "9 x 10 = 90\n"
          ]
        }
      ]
    },
    {
      "cell_type": "markdown",
      "source": [
        "#Ejercicio 7"
      ],
      "metadata": {
        "id": "bzV0_B-4Uvb2"
      }
    },
    {
      "cell_type": "code",
      "source": [
        "print (\"Vamos a calacular la siguiente suma  \")\n",
        "x =  100+90+80+70+60+50+40+30+20+10+0\n",
        "print(\"El resultado es \", x)"
      ],
      "metadata": {
        "colab": {
          "base_uri": "https://localhost:8080/"
        },
        "id": "IhHFDBThUyoY",
        "outputId": "f8302751-c56e-4a5e-d791-70a7d416c74f"
      },
      "execution_count": 49,
      "outputs": [
        {
          "output_type": "stream",
          "name": "stdout",
          "text": [
            "Vamos a calacular la siguiente suma  \n",
            "El resultado es  550\n"
          ]
        }
      ]
    },
    {
      "cell_type": "code",
      "source": [],
      "metadata": {
        "colab": {
          "base_uri": "https://localhost:8080/"
        },
        "id": "Ock-Wvb-k__N",
        "outputId": "30eb8646-a286-44dc-b1ef-e5f2035b59f8"
      },
      "execution_count": 48,
      "outputs": [
        {
          "output_type": "stream",
          "name": "stdout",
          "text": [
            "Vamos a calacular la siguiente suma  \n",
            "El resultado es  550\n"
          ]
        }
      ]
    }
  ]
}